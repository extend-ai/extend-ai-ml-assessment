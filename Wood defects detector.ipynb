{
 "cells": [
  {
   "cell_type": "code",
   "execution_count": 1,
   "id": "6fef986e-cd84-4b67-85b8-1da3c63979bd",
   "metadata": {},
   "outputs": [],
   "source": [
    "import numpy as np\n",
    "import pandas as pd\n",
    "import tensorflow as tf\n",
    "import os\n",
    "import matplotlib.pyplot as plt\n",
    "import numpy as np\n",
    "from PIL import Image\n",
    "from keras.preprocessing import image\n",
    "from keras_vggface.utils import preprocess_input\n",
    "from tensorflow.keras import layers\n",
    "from sklearn.model_selection import train_test_split"
   ]
  },
  {
   "cell_type": "code",
   "execution_count": 2,
   "id": "60ed2bd1-4acf-4794-a3c5-ea0faadd712d",
   "metadata": {},
   "outputs": [
    {
     "data": {
      "text/html": [
       "<div>\n",
       "<style scoped>\n",
       "    .dataframe tbody tr th:only-of-type {\n",
       "        vertical-align: middle;\n",
       "    }\n",
       "\n",
       "    .dataframe tbody tr th {\n",
       "        vertical-align: top;\n",
       "    }\n",
       "\n",
       "    .dataframe thead th {\n",
       "        text-align: right;\n",
       "    }\n",
       "</style>\n",
       "<table border=\"1\" class=\"dataframe\">\n",
       "  <thead>\n",
       "    <tr style=\"text-align: right;\">\n",
       "      <th></th>\n",
       "      <th>Image code</th>\n",
       "      <th>label</th>\n",
       "    </tr>\n",
       "  </thead>\n",
       "  <tbody>\n",
       "    <tr>\n",
       "      <th>0</th>\n",
       "      <td>2021-04-07 21_36_40_exai_rpi_004_51</td>\n",
       "      <td>0</td>\n",
       "    </tr>\n",
       "    <tr>\n",
       "      <th>1</th>\n",
       "      <td>2021-04-07 21_37_18_exai_rpi_001_58</td>\n",
       "      <td>0</td>\n",
       "    </tr>\n",
       "    <tr>\n",
       "      <th>2</th>\n",
       "      <td>2021-04-07 21_39_06_exai_rpi_001_85</td>\n",
       "      <td>1</td>\n",
       "    </tr>\n",
       "    <tr>\n",
       "      <th>3</th>\n",
       "      <td>2021-04-07 21_39_20_exai_rpi_004_91</td>\n",
       "      <td>0</td>\n",
       "    </tr>\n",
       "    <tr>\n",
       "      <th>4</th>\n",
       "      <td>2021-04-07 21_40_10_exai_rpi_001_101</td>\n",
       "      <td>1</td>\n",
       "    </tr>\n",
       "    <tr>\n",
       "      <th>5</th>\n",
       "      <td>2021-04-07 21_43_40_exai_rpi_004_156</td>\n",
       "      <td>1</td>\n",
       "    </tr>\n",
       "    <tr>\n",
       "      <th>6</th>\n",
       "      <td>2021-04-07 21_45_00_exai_rpi_004_176</td>\n",
       "      <td>0</td>\n",
       "    </tr>\n",
       "  </tbody>\n",
       "</table>\n",
       "</div>"
      ],
      "text/plain": [
       "                             Image code  label\n",
       "0   2021-04-07 21_36_40_exai_rpi_004_51      0\n",
       "1   2021-04-07 21_37_18_exai_rpi_001_58      0\n",
       "2   2021-04-07 21_39_06_exai_rpi_001_85      1\n",
       "3   2021-04-07 21_39_20_exai_rpi_004_91      0\n",
       "4  2021-04-07 21_40_10_exai_rpi_001_101      1\n",
       "5  2021-04-07 21_43_40_exai_rpi_004_156      1\n",
       "6  2021-04-07 21_45_00_exai_rpi_004_176      0"
      ]
     },
     "execution_count": 2,
     "metadata": {},
     "output_type": "execute_result"
    }
   ],
   "source": [
    "data = pd.read_csv(\"data/labels.csv\") #reading the created labelled data\n",
    "data"
   ]
  },
  {
   "cell_type": "code",
   "execution_count": 3,
   "id": "52d4b05a-f55d-43e6-b792-a0558e5d7854",
   "metadata": {},
   "outputs": [],
   "source": [
    "labels = np.asarray(data[\"label\"])"
   ]
  },
  {
   "cell_type": "code",
   "execution_count": 4,
   "id": "961e3d24-2d41-45c6-9360-7e3d81a194ec",
   "metadata": {},
   "outputs": [
    {
     "name": "stdout",
     "output_type": "stream",
     "text": [
      "7\n"
     ]
    },
    {
     "data": {
      "text/plain": [
       "array([['data/2021-04-07 21_36_40_exai_rpi_004_51.jpg', 0],\n",
       "       ['data/2021-04-07 21_37_18_exai_rpi_001_58.jpg', 0],\n",
       "       ['data/2021-04-07 21_39_06_exai_rpi_001_85.jpg', 1],\n",
       "       ['data/2021-04-07 21_39_20_exai_rpi_004_91.jpg', 0],\n",
       "       ['data/2021-04-07 21_40_10_exai_rpi_001_101.jpg', 1],\n",
       "       ['data/2021-04-07 21_43_40_exai_rpi_004_156.jpg', 1],\n",
       "       ['data/2021-04-07 21_45_00_exai_rpi_004_176.jpg', 0]], dtype=object)"
      ]
     },
     "execution_count": 4,
     "metadata": {},
     "output_type": "execute_result"
    }
   ],
   "source": [
    "data_array = data.values\n",
    "images=[]\n",
    "for i in range(len(data_array)):\n",
    "    img = 'data/'+ str(data_array[i][0]) +'.jpg' #replacing the image name with corresponding path\n",
    "    images.append(img)\n",
    "print(len(images))\n",
    "\n",
    "data[\"Images\"] = images\n",
    "data = data[[\"Images\", \"label\"]]\n",
    "data_array = data.values\n",
    "data_array"
   ]
  },
  {
   "cell_type": "code",
   "execution_count": 5,
   "id": "6682b59f-af6c-4dc4-ae35-6529da5b2e44",
   "metadata": {},
   "outputs": [],
   "source": [
    "#Use this to foolowings functions to use unprocessed data\n",
    "# def load_img(path):\n",
    "#     img = Image.open(path).resize((224,224))\n",
    "#     img = np.asarray(img)  \n",
    "#     return img"
   ]
  },
  {
   "cell_type": "code",
   "execution_count": 6,
   "id": "54b3fc1d-6bc3-448c-a6da-84f7c3f60043",
   "metadata": {},
   "outputs": [],
   "source": [
    "# def view_img(images):\n",
    "#     for i in range(len(images)):\n",
    "#         images[i] = load_img(images[i])\n",
    "#     return images"
   ]
  },
  {
   "cell_type": "code",
   "execution_count": 7,
   "id": "f728db88-88bd-48f9-85e2-ffdb74d5e858",
   "metadata": {},
   "outputs": [
    {
     "data": {
      "text/plain": [
       "<matplotlib.image.AxesImage at 0x24cec5be3a0>"
      ]
     },
     "execution_count": 7,
     "metadata": {},
     "output_type": "execute_result"
    },
    {
     "data": {
      "image/png": "[encoded data removed]",
      "text/plain": [
       "<Figure size 432x288 with 1 Axes>"
      ]
     },
     "metadata": {
      "needs_background": "light"
     },
     "output_type": "display_data"
    }
   ],
   "source": [
    "# view_img(images)\n",
    "# images = np.asarray(images)\n",
    "# plt.imshow(images[2])"
   ]
  },
  {
   "cell_type": "code",
   "execution_count": 5,
   "id": "d9d4f0e2-f3b3-4ce4-8d33-bd9bd27b3761",
   "metadata": {},
   "outputs": [],
   "source": [
    "#Use this function to load preprocessed data\n",
    "def read_img(path):\n",
    "    img = image.load_img(path, target_size=(224, 224))\n",
    "    img = np.array(img).astype(np.float)\n",
    "    return preprocess_input(img, version=2)"
   ]
  },
  {
   "cell_type": "code",
   "execution_count": 6,
   "id": "b60c6f4e-4d1b-4bb3-ab3d-87b10c910f5e",
   "metadata": {},
   "outputs": [],
   "source": [
    "def assign_img(images):\n",
    "    for i in range(len(images)):\n",
    "        images[i] = read_img(images[i])\n",
    "    return images"
   ]
  },
  {
   "cell_type": "code",
   "execution_count": 7,
   "id": "b2df0f60-7394-4fe2-a508-8bc648d8d1cf",
   "metadata": {},
   "outputs": [
    {
     "name": "stderr",
     "output_type": "stream",
     "text": [
      "Clipping input data to the valid range for imshow with RGB data ([0..1] for floats or [0..255] for integers).\n"
     ]
    },
    {
     "data": {
      "text/plain": [
       "<matplotlib.image.AxesImage at 0x20abdcac400>"
      ]
     },
     "execution_count": 7,
     "metadata": {},
     "output_type": "execute_result"
    },
    {
     "data": {
      "image/png": "[encoded data removed]",
      "text/plain": [
       "<Figure size 432x288 with 1 Axes>"
      ]
     },
     "metadata": {
      "needs_background": "light"
     },
     "output_type": "display_data"
    }
   ],
   "source": [
    "assign_img(images)\n",
    "images = np.asarray(images)\n",
    "plt.imshow(images[2])"
   ]
  },
  {
   "cell_type": "code",
   "execution_count": 8,
   "id": "e154e4c3-c026-4427-a9c6-3798c1794bb0",
   "metadata": {},
   "outputs": [],
   "source": [
    "#np.save(\"processed_images.npy\", images)"
   ]
  },
  {
   "cell_type": "code",
   "execution_count": 8,
   "id": "bc3c9571-7f40-4e37-9a9d-6aa13230c82c",
   "metadata": {},
   "outputs": [],
   "source": [
    "X_train, X_test, Y_train, Y_test = train_test_split(images, labels, test_size=0.25, random_state=1) #using images for validation"
   ]
  },
  {
   "cell_type": "code",
   "execution_count": 9,
   "id": "c754f6f2-c4ed-42d2-b8f1-6c65953fd274",
   "metadata": {},
   "outputs": [
    {
     "data": {
      "text/plain": [
       "((5, 224, 224, 3), (5,), (2, 224, 224, 3), (2,))"
      ]
     },
     "execution_count": 9,
     "metadata": {},
     "output_type": "execute_result"
    }
   ],
   "source": [
    "X_train.shape, Y_train.shape, X_test.shape, Y_test.shape"
   ]
  },
  {
   "cell_type": "code",
   "execution_count": 10,
   "id": "b1565f75-86c4-4024-82d7-39b640059183",
   "metadata": {},
   "outputs": [],
   "source": [
    "# data_augmentation = tf.keras.Sequential([\n",
    "#   layers.Rescaling(1./255, input_shape=(X_train[0].shape[0], X_train[0].shape[1], 3)),\n",
    "#   layers.RandomFlip(\"horizontal_and_vertical\"),\n",
    "#   layers.RandomRotation(0.2),\n",
    "#   layers.RandomContrast(0.5)\n",
    "# ])\n",
    "\n",
    "# image1 = X_train[2]\n",
    "# image1 = tf.expand_dims(image1, 0)\n",
    "\n",
    "# plt.figure(figsize=(10, 10))\n",
    "# for i in range(16):\n",
    "#   augmented_image = data_augmentation(image1)\n",
    "#   ax = plt.subplot(4, 4, i + 1)\n",
    "#   plt.imshow(augmented_image[0])\n",
    "#   plt.axis(\"off\")"
   ]
  },
  {
   "cell_type": "code",
   "execution_count": 10,
   "id": "c204f172-fe7a-4d81-9cab-e47f91b35d7d",
   "metadata": {},
   "outputs": [
    {
     "name": "stdout",
     "output_type": "stream",
     "text": [
      "Model: \"sequential\"\n",
      "_________________________________________________________________\n",
      "Layer (type)                 Output Shape              Param #   \n",
      "=================================================================\n",
      "rescaling (Rescaling)        (None, 224, 224, 3)       0         \n",
      "_________________________________________________________________\n",
      "conv2d (Conv2D)              (None, 224, 224, 16)      448       \n",
      "_________________________________________________________________\n",
      "max_pooling2d (MaxPooling2D) (None, 112, 112, 16)      0         \n",
      "_________________________________________________________________\n",
      "conv2d_1 (Conv2D)            (None, 112, 112, 32)      4640      \n",
      "_________________________________________________________________\n",
      "max_pooling2d_1 (MaxPooling2 (None, 56, 56, 32)        0         \n",
      "_________________________________________________________________\n",
      "conv2d_2 (Conv2D)            (None, 56, 56, 64)        18496     \n",
      "_________________________________________________________________\n",
      "max_pooling2d_2 (MaxPooling2 (None, 28, 28, 64)        0         \n",
      "_________________________________________________________________\n",
      "flatten (Flatten)            (None, 50176)             0         \n",
      "_________________________________________________________________\n",
      "dense (Dense)                (None, 128)               6422656   \n",
      "_________________________________________________________________\n",
      "dense_1 (Dense)              (None, 2)                 258       \n",
      "=================================================================\n",
      "Total params: 6,446,498\n",
      "Trainable params: 6,446,498\n",
      "Non-trainable params: 0\n",
      "_________________________________________________________________\n"
     ]
    }
   ],
   "source": [
    "#building our model\n",
    "model = tf.keras.Sequential([\n",
    "  layers.Rescaling(1./255, input_shape=(X_train[0].shape[0], X_train[0].shape[1], 3)),\n",
    "  #the preprocessing layercreated earlier.\n",
    "  #data_augmentation, #To be used to integrate data augmentation to our model\n",
    "  layers.Conv2D(16, 3, padding='same', activation='relu'),\n",
    "  layers.MaxPooling2D(),\n",
    "    \n",
    "  layers.Conv2D(32, 3, padding='same', activation='relu'),\n",
    "  layers.MaxPooling2D(),\n",
    "    \n",
    "  layers.Conv2D(64, 3, padding='same', activation='relu'),\n",
    "  layers.MaxPooling2D(),\n",
    "    \n",
    "  layers.Flatten(),\n",
    "  layers.Dense(128, activation='relu'),\n",
    "  layers.Dense(2)   \n",
    "])\n",
    "model.compile(optimizer='adam',\n",
    "              loss=\"binary_crossentropy\",\n",
    "              metrics=['accuracy'])\n",
    "model.summary()"
   ]
  },
  {
   "cell_type": "code",
   "execution_count": 12,
   "id": "3d64e621-e5c0-42bc-9e7b-fd3efb8f10c4",
   "metadata": {},
   "outputs": [],
   "source": [
    "#history = model.fit(X_train, Y_train, validation_data=(X_test, Y_test), epochs=15)"
   ]
  },
  {
   "cell_type": "code",
   "execution_count": 11,
   "id": "516d1306-cbe0-4989-897b-cfd01492e774",
   "metadata": {},
   "outputs": [
    {
     "name": "stdout",
     "output_type": "stream",
     "text": [
      "Epoch 1/20\n",
      "1/1 [==============================] - 1s 866ms/step - loss: 5.2154 - accuracy: 0.6000 - val_loss: 4.4505 - val_accuracy: 0.5000\n",
      "Epoch 2/20\n",
      "1/1 [==============================] - 0s 159ms/step - loss: 3.5839 - accuracy: 0.4000 - val_loss: 4.4012 - val_accuracy: 0.5000\n",
      "Epoch 3/20\n",
      "1/1 [==============================] - 0s 174ms/step - loss: 4.0275 - accuracy: 0.4000 - val_loss: 4.2199 - val_accuracy: 0.5000\n",
      "Epoch 4/20\n",
      "1/1 [==============================] - 0s 181ms/step - loss: 2.5440 - accuracy: 0.4000 - val_loss: 7.6246 - val_accuracy: 0.5000\n",
      "Epoch 5/20\n",
      "1/1 [==============================] - 0s 177ms/step - loss: 0.7421 - accuracy: 1.0000 - val_loss: 7.6246 - val_accuracy: 0.5000\n",
      "Epoch 6/20\n",
      "1/1 [==============================] - 0s 164ms/step - loss: 0.7294 - accuracy: 0.6000 - val_loss: 7.6246 - val_accuracy: 0.5000\n",
      "Epoch 7/20\n",
      "1/1 [==============================] - 0s 181ms/step - loss: 0.7401 - accuracy: 0.6000 - val_loss: 7.6246 - val_accuracy: 0.5000\n",
      "Epoch 8/20\n",
      "1/1 [==============================] - 0s 182ms/step - loss: 0.7360 - accuracy: 0.6000 - val_loss: 7.6246 - val_accuracy: 0.5000\n",
      "Epoch 9/20\n",
      "1/1 [==============================] - 0s 199ms/step - loss: 0.7578 - accuracy: 0.6000 - val_loss: 7.6246 - val_accuracy: 0.5000\n",
      "Epoch 10/20\n",
      "1/1 [==============================] - 0s 175ms/step - loss: 0.7529 - accuracy: 0.6000 - val_loss: 7.6246 - val_accuracy: 0.5000\n",
      "Epoch 11/20\n",
      "1/1 [==============================] - 0s 164ms/step - loss: 0.7339 - accuracy: 0.6000 - val_loss: 7.6246 - val_accuracy: 0.5000\n",
      "Epoch 12/20\n",
      "1/1 [==============================] - 0s 157ms/step - loss: 0.7073 - accuracy: 0.6000 - val_loss: 7.6246 - val_accuracy: 0.5000\n",
      "Epoch 13/20\n",
      "1/1 [==============================] - 0s 172ms/step - loss: 0.6719 - accuracy: 0.6000 - val_loss: 7.6246 - val_accuracy: 0.5000\n",
      "Epoch 14/20\n",
      "1/1 [==============================] - 0s 193ms/step - loss: 0.6621 - accuracy: 0.6000 - val_loss: 7.6246 - val_accuracy: 0.5000\n",
      "Epoch 15/20\n",
      "1/1 [==============================] - 0s 183ms/step - loss: 0.6340 - accuracy: 0.2000 - val_loss: 7.6246 - val_accuracy: 0.5000\n",
      "Epoch 16/20\n",
      "1/1 [==============================] - 0s 185ms/step - loss: 0.6442 - accuracy: 0.4000 - val_loss: 7.6246 - val_accuracy: 0.5000\n",
      "Epoch 17/20\n",
      "1/1 [==============================] - 0s 182ms/step - loss: 0.6390 - accuracy: 0.4000 - val_loss: 7.6246 - val_accuracy: 0.5000\n",
      "Epoch 18/20\n",
      "1/1 [==============================] - 0s 171ms/step - loss: 0.6476 - accuracy: 0.4000 - val_loss: 7.6246 - val_accuracy: 0.5000\n",
      "Epoch 19/20\n",
      "1/1 [==============================] - 0s 227ms/step - loss: 0.6243 - accuracy: 0.4000 - val_loss: 7.6246 - val_accuracy: 0.5000\n",
      "Epoch 20/20\n",
      "1/1 [==============================] - 0s 184ms/step - loss: 0.6008 - accuracy: 0.4000 - val_loss: 7.6246 - val_accuracy: 0.5000\n"
     ]
    }
   ],
   "source": [
    "from keras.preprocessing.image import ImageDataGenerator\n",
    "\n",
    "datagen = ImageDataGenerator(  #Using data augmentation before fitting to the model\n",
    "    featurewise_center=True,\n",
    "    featurewise_std_normalization=True,\n",
    "    rotation_range=20,\n",
    "    width_shift_range=0.2,\n",
    "    height_shift_range=0.2,\n",
    "    horizontal_flip=True,\n",
    "    validation_split=0.2)\n",
    "datagen.fit(X_train)\n",
    "\n",
    "training_set = datagen.flow(X_train, Y_train)\n",
    "\n",
    "history = model.fit(training_set, validation_data=(X_test, Y_test), epochs=20)"
   ]
  },
  {
   "cell_type": "code",
   "execution_count": 12,
   "id": "88b6e18d-1876-405c-bad1-d15fdcd4e2f0",
   "metadata": {},
   "outputs": [
    {
     "data": {
      "image/png": "[encoded data removed]",
      "text/plain": [
       "<Figure size 432x288 with 1 Axes>"
      ]
     },
     "metadata": {
      "needs_background": "light"
     },
     "output_type": "display_data"
    }
   ],
   "source": [
    "acc = history.history['accuracy']\n",
    "loss = history.history['loss']\n",
    "epochs = range(len(acc))\n",
    "plt.plot(epochs, acc, 'r', label='Training acc')\n",
    "plt.plot(epochs, loss, 'b', label='Training loss')\n",
    "plt.legend()\n",
    "plt.show()"
   ]
  },
  {
   "cell_type": "markdown",
   "id": "b39b2523-b9dc-4f1a-8bdb-bb71fd9f00a0",
   "metadata": {},
   "source": [
    "Due to low data our model can't perform very well.\n",
    "A different could also be to use transfer learning by using a pretrained model"
   ]
  },
  {
   "cell_type": "code",
   "execution_count": 13,
   "id": "72e2dc9a-3bd8-4d82-aa5d-4092f9b9b1a2",
   "metadata": {},
   "outputs": [],
   "source": [
    "model.save(\"model.h5\")"
   ]
  },
  {
   "cell_type": "markdown",
   "id": "fab8f6de-a704-4261-9734-063222b8aff4",
   "metadata": {},
   "source": [
    "To improve this model, we should increase our database.\n",
    "\n",
    "For to use transfer learning to apply to other surfaces, we can use our model as the baseline of the future model. That is being the first layer of the new model which will have pretrained weights."
   ]
  },
  {
   "cell_type": "code",
   "execution_count": null,
   "id": "388ecaf0-38a1-43be-bae7-5ce1a2832518",
   "metadata": {},
   "outputs": [],
   "source": []
  }
 ],
 "metadata": {
  "kernelspec": {
   "display_name": "Python 3",
   "language": "python",
   "name": "python3"
  },
  "language_info": {
   "codemirror_mode": {
    "name": "ipython",
    "version": 3
   },
   "file_extension": ".py",
   "mimetype": "text/x-python",
   "name": "python",
   "nbconvert_exporter": "python",
   "pygments_lexer": "ipython3",
   "version": "3.8.8"
  }
 },
 "nbformat": 4,
 "nbformat_minor": 5
}
